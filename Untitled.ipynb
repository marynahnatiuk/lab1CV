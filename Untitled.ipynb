{
 "cells": [
  {
   "cell_type": "code",
   "execution_count": 17,
   "metadata": {},
   "outputs": [],
   "source": [
    "import cv2, os, time\n",
    "\n",
    "def kaze_match(images_path, good_image_path, pref, f):\n",
    "    images = []\n",
    "    for file in os.listdir(images_path):\n",
    "        if file.endswith(\".JPG\"):\n",
    "            images.append(cv2.imread(images_path+file))\n",
    "\n",
    "    gray_images = []\n",
    "    for image in images:\n",
    "        gray = cv2.cvtColor(image, cv2.COLOR_BGR2GRAY)\n",
    "        gray_images.append(gray);\n",
    "\n",
    "    good_image = cv2.imread(good_image_path)\n",
    "    good_gray_image = cv2.cvtColor(good_image, cv2.COLOR_BGR2GRAY)\n",
    "\n",
    "    detector = cv2.BRISK_create()\n",
    "\n",
    "    results = []\n",
    "    for image in gray_images:\n",
    "        (kps, desc) = detector.detectAndCompute(image, None)\n",
    "        results.append((kps,desc,image))\n",
    "\n",
    "    (kps_good, descs_good) = detector.detectAndCompute(good_gray_image, None)\n",
    "\n",
    "    i = 0\n",
    "    for (kps, desc, image) in results:\n",
    "        f.write(pref+\" Image \"+str(i)+\"\\n\")\n",
    "        f.write(\"keypoints: {}, descriptors: {}\".format(len(kps), desc.shape)+\"\\n\")\n",
    "        print(\"keypoints: {}, descriptors: {}\".format(len(kps), desc.shape))\n",
    "\n",
    "        start_time = time.time()\n",
    "\n",
    "        bf = cv2.BFMatcher(cv2.NORM_HAMMING,crossCheck=False)\n",
    "        matches = bf.knnMatch(desc,descs_good,k=2)    # typo fixed\n",
    "\n",
    "        good = []\n",
    "        for m, n in matches:\n",
    "            if m.distance < 0.9 * n.distance:\n",
    "                good.append([m])\n",
    "\n",
    "        img3 = cv2.drawMatchesKnn(image, kps, good_gray_image, kps_good, good[:20], None, flags=2)\n",
    "        cv2.imwrite(\"results/\"+pref+\"res\"+str(i)+\".jpg\", img3)\n",
    "        f.write(\"Time: {}\\nMatches: {}\\n\\n\".format(time.time()-start_time), len(good))\n",
    "        i = i + 1\n",
    "\n",
    "def main():\n",
    "    good_image_dir = \"good/\"\n",
    "    bad_image_dir = \"bad/\"\n",
    "    good_image = \"good/IMG_1508.JPG\"\n",
    "\n",
    "    f = open(\"results.txt\", \"w\")\n",
    "    f.write(\"Results:\\n\")\n",
    "    f.close()\n",
    "    f = open(\"results.txt\", \"a\")\n",
    "\n",
    "    kaze_match(good_image_dir,good_image,\"good\",f)\n",
    "    #kaze_match(bad_image_dir,good_image,\"bad\",f)"
   ]
  },
  {
   "cell_type": "code",
   "execution_count": null,
   "metadata": {},
   "outputs": [],
   "source": [
    "main()"
   ]
  }
 ],
 "metadata": {
  "kernelspec": {
   "display_name": "Python 3",
   "language": "python",
   "name": "python3"
  },
  "language_info": {
   "codemirror_mode": {
    "name": "ipython",
    "version": 3
   },
   "file_extension": ".py",
   "mimetype": "text/x-python",
   "name": "python",
   "nbconvert_exporter": "python",
   "pygments_lexer": "ipython3",
   "version": "3.6.4"
  }
 },
 "nbformat": 4,
 "nbformat_minor": 2
}
